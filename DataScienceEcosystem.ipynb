{
  "nbformat": 4,
  "nbformat_minor": 0,
  "metadata": {
    "colab": {
      "provenance": []
    },
    "kernelspec": {
      "name": "python3",
      "display_name": "Python 3"
    },
    "language_info": {
      "name": "python"
    }
  },
  "cells": [
    {
      "cell_type": "markdown",
      "source": [
        "#Data Science Tools and Ecosystem\n",
        "In this notebook, Data Science Tools and Ecosystem are summarized."
      ],
      "metadata": {
        "id": "7ot_oyu-IkDQ"
      }
    },
    {
      "cell_type": "markdown",
      "source": [
        "**Objectives:**\n",
        "\n",
        "- Get familiar with the tools and ecosystem used in Data Science.\n",
        "- Learn about some of the most popular programming languages commonly used by Data Scientists.\n",
        "- Explore commonly used libraries by Data Scientists for various tasks such as data manipulation, machine learning, and visualization.\n",
        "\n"
      ],
      "metadata": {
        "id": "n6KIBMS_PRg4"
      }
    },
    {
      "cell_type": "markdown",
      "source": [
        "Some of the popular languages that Data Scientists use are:\n",
        "1. Python\n",
        "2. C++\n",
        "3. SQL\n",
        "4. Java\n",
        "5. R"
      ],
      "metadata": {
        "id": "XbxIPRtgJkJE"
      }
    },
    {
      "cell_type": "markdown",
      "source": [
        "Some of the commonly used libraries used by Data Scientists include:\n",
        "1. Pandas\n",
        "2. NumPy\n",
        "3. Matplotlib\n",
        "4. Plotly\n",
        "5. ggplot\n",
        "6. Hadoop\n"
      ],
      "metadata": {
        "id": "9XH-XWavJ2YY"
      }
    },
    {
      "cell_type": "markdown",
      "source": [
        "\n",
        "| Data Science Tools       |\n",
        "|--------------------------|\n",
        "| Github         |\n",
        "| Python            |\n",
        "| Apache Spark          |\n"
      ],
      "metadata": {
        "id": "uvFfMpN_K2VR"
      }
    },
    {
      "cell_type": "markdown",
      "source": [
        "### Below are a few examples of evaluating arithmetic expressions in Python.\n",
        "\n",
        "1.    $\\frac{d}{dx}(x^3 + 2x^2 + x) = 3x^2 + 4x + 1 $\n",
        "\n",
        "2.   $ \\int_{0}^{1} (2x^2 + 3x) \\, dx = \\left[\\frac{2x^3}{3} + \\frac{3x^2}{2}\\right]_0^1 = \\frac{7}{6} $\n",
        "\n",
        "3.  $ e^x \\approx 1 + x + \\frac{x^2}{2!} + \\frac{x^3}{3!} \\; (\\text{up to 3 terms}) $\n",
        "\n",
        "4. $ \\lim_{x \\to \\infty} \\frac{1}{x} = 0 $\n",
        "\n"
      ],
      "metadata": {
        "id": "qNIit39cMJDM"
      }
    },
    {
      "cell_type": "code",
      "source": [
        "# Function to multiply two numbers and then add a third number\n",
        "def multiply_and_add(a, b, c):\n",
        "    result = (a * b) + c\n",
        "    return result\n",
        "\n",
        "# Example of calling the function with arguments 3, 4, and 5\n",
        "result = multiply_and_add(3, 4, 5)\n",
        "print(result)  # Expected output: 17\n"
      ],
      "metadata": {
        "colab": {
          "base_uri": "https://localhost:8080/"
        },
        "id": "RzOPBboYNQvA",
        "outputId": "b040a662-ecb6-40d6-f654-45777249ebfe"
      },
      "execution_count": 3,
      "outputs": [
        {
          "output_type": "stream",
          "name": "stdout",
          "text": [
            "17\n"
          ]
        }
      ]
    },
    {
      "cell_type": "code",
      "source": [
        "# This will convert 400 minutes to hours by dividing by 60\n",
        "minutes = 400\n",
        "hours = minutes / 60\n",
        "print(hours)  # Expected output: 6.666"
      ],
      "metadata": {
        "colab": {
          "base_uri": "https://localhost:8080/"
        },
        "id": "p-hfwghRNzlM",
        "outputId": "61a7378b-1bcd-4e3a-a8a2-fb6763348863"
      },
      "execution_count": 5,
      "outputs": [
        {
          "output_type": "stream",
          "name": "stdout",
          "text": [
            "6.666666666666667\n"
          ]
        }
      ]
    },
    {
      "cell_type": "markdown",
      "source": [
        "## Author\n",
        "\n",
        "Alejandro Umaña Peña\n"
      ],
      "metadata": {
        "id": "zdCzgNV6Qm3L"
      }
    }
  ]
}